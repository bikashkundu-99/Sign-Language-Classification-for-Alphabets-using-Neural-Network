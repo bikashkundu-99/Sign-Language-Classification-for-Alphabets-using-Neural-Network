{
 "cells": [
  {
   "cell_type": "code",
   "execution_count": 1,
   "metadata": {},
   "outputs": [],
   "source": [
    "import tensorflow as tf\n",
    "from tensorflow import keras"
   ]
  },
  {
   "cell_type": "code",
   "execution_count": 2,
   "metadata": {},
   "outputs": [],
   "source": [
    "from keras.models import Sequential\n",
    "from keras.layers import Convolution2D\n",
    "from keras.layers import MaxPooling2D\n",
    "from keras.layers import Flatten\n",
    "from keras.layers import Dense, Dropout\n",
    "from keras import optimizers"
   ]
  },
  {
   "cell_type": "code",
   "execution_count": 3,
   "metadata": {},
   "outputs": [],
   "source": [
    "# Initialing the CNN\n",
    "classifier = Sequential()\n",
    "\n",
    "# Step 1 - Convolutio Layer \n",
    "classifier.add(Convolution2D(32, 3,  3, input_shape = (64, 64, 3), activation = 'relu'))\n",
    "\n",
    "#step 2 - Pooling\n",
    "#classifier.add(MaxPooling2D(pool_size =(2,2)))\n",
    "\n",
    "# Adding second convolution layer\n",
    "classifier.add(Convolution2D(32, 3,  3, activation = 'relu'))\n",
    "#classifier.add(MaxPooling2D(pool_size =(2,2)))\n",
    "\n",
    "#Adding 3rd Concolution Layer\n",
    "classifier.add(Convolution2D(64, 3,  3, activation = 'relu'))\n",
    "#classifier.add(MaxPooling2D(pool_size =(2,2)))\n",
    "\n",
    "\n",
    "#Step 3 - Flattening\n",
    "classifier.add(Flatten())\n"
   ]
  },
  {
   "cell_type": "code",
   "execution_count": 4,
   "metadata": {},
   "outputs": [],
   "source": [
    "#Step 4 - Full Connection\n",
    "classifier.add(Dense(256, activation = 'relu'))\n",
    "classifier.add(Dropout(0.5))\n",
    "classifier.add(Dense(26, activation = 'softmax'))"
   ]
  },
  {
   "cell_type": "code",
   "execution_count": 5,
   "metadata": {},
   "outputs": [],
   "source": [
    "classifier.compile(\n",
    "              optimizer = optimizers.SGD(lr = 0.01),\n",
    "              loss = 'categorical_crossentropy',\n",
    "              metrics = ['accuracy'])"
   ]
  },
  {
   "cell_type": "code",
   "execution_count": 6,
   "metadata": {},
   "outputs": [],
   "source": [
    "from keras.preprocessing.image import ImageDataGenerator\n",
    "train_datagen = ImageDataGenerator(\n",
    "        rescale=1./255,\n",
    "        shear_range=0.2,\n",
    "        zoom_range=0.2,\n",
    "        horizontal_flip=True)\n",
    "\n",
    "test_datagen = ImageDataGenerator(rescale=1./255)"
   ]
  },
  {
   "cell_type": "code",
   "execution_count": 7,
   "metadata": {},
   "outputs": [
    {
     "name": "stdout",
     "output_type": "stream",
     "text": [
      "Found 45500 images belonging to 26 classes.\n",
      "Found 6500 images belonging to 26 classes.\n"
     ]
    },
    {
     "name": "stderr",
     "output_type": "stream",
     "text": [
      "C:\\Users\\admin\\AppData\\Roaming\\Python\\Python38\\site-packages\\tensorflow\\python\\keras\\engine\\training.py:1844: UserWarning: `Model.fit_generator` is deprecated and will be removed in a future version. Please use `Model.fit`, which supports generators.\n",
      "  warnings.warn('`Model.fit_generator` is deprecated and '\n"
     ]
    },
    {
     "name": "stdout",
     "output_type": "stream",
     "text": [
      "Epoch 1/40\n",
      "500/500 [==============================] - ETA: 0s - loss: 3.2518 - accuracy: 0.0437WARNING:tensorflow:Your input ran out of data; interrupting training. Make sure that your dataset or generator can generate at least `steps_per_epoch * epochs` batches (in this case, 6500 batches). You may need to use the repeat() function when building your dataset.\n",
      "500/500 [==============================] - 88s 174ms/step - loss: 3.2518 - accuracy: 0.0437 - val_loss: 3.1734 - val_accuracy: 0.1220\n",
      "Epoch 2/40\n",
      "500/500 [==============================] - 75s 150ms/step - loss: 2.9713 - accuracy: 0.1345\n",
      "Epoch 3/40\n",
      "500/500 [==============================] - 69s 138ms/step - loss: 1.8356 - accuracy: 0.4252\n",
      "Epoch 4/40\n",
      "500/500 [==============================] - 68s 136ms/step - loss: 1.3286 - accuracy: 0.5655\n",
      "Epoch 5/40\n",
      "500/500 [==============================] - 67s 134ms/step - loss: 1.0430 - accuracy: 0.6536\n",
      "Epoch 6/40\n",
      "500/500 [==============================] - 71s 141ms/step - loss: 0.8768 - accuracy: 0.7108\n",
      "Epoch 7/40\n",
      "500/500 [==============================] - 65s 131ms/step - loss: 0.7527 - accuracy: 0.7497\n",
      "Epoch 8/40\n",
      "500/500 [==============================] - 65s 130ms/step - loss: 0.6671 - accuracy: 0.7738\n",
      "Epoch 9/40\n",
      "500/500 [==============================] - 71s 142ms/step - loss: 0.5832 - accuracy: 0.8018\n",
      "Epoch 10/40\n",
      "500/500 [==============================] - 73s 146ms/step - loss: 0.5309 - accuracy: 0.8157\n",
      "Epoch 11/40\n",
      "500/500 [==============================] - 77s 155ms/step - loss: 0.5023 - accuracy: 0.8291\n",
      "Epoch 12/40\n",
      "500/500 [==============================] - 74s 147ms/step - loss: 0.4744 - accuracy: 0.8388\n",
      "Epoch 13/40\n",
      "500/500 [==============================] - 79s 158ms/step - loss: 0.4238 - accuracy: 0.8551\n",
      "Epoch 14/40\n",
      "500/500 [==============================] - 70s 139ms/step - loss: 0.4152 - accuracy: 0.8601\n",
      "Epoch 15/40\n",
      "500/500 [==============================] - 63s 126ms/step - loss: 0.3796 - accuracy: 0.8704\n",
      "Epoch 16/40\n",
      "500/500 [==============================] - 70s 140ms/step - loss: 0.3476 - accuracy: 0.8760\n",
      "Epoch 17/40\n",
      "500/500 [==============================] - 75s 149ms/step - loss: 0.3352 - accuracy: 0.8836\n",
      "Epoch 18/40\n",
      "500/500 [==============================] - 70s 139ms/step - loss: 0.3317 - accuracy: 0.8860\n",
      "Epoch 19/40\n",
      "500/500 [==============================] - 73s 147ms/step - loss: 0.3209 - accuracy: 0.8910\n",
      "Epoch 20/40\n",
      "500/500 [==============================] - 83s 166ms/step - loss: 0.2994 - accuracy: 0.8928\n",
      "Epoch 21/40\n",
      "500/500 [==============================] - 71s 141ms/step - loss: 0.2941 - accuracy: 0.8968\n",
      "Epoch 22/40\n",
      "500/500 [==============================] - 71s 142ms/step - loss: 0.2797 - accuracy: 0.9060\n",
      "Epoch 23/40\n",
      "500/500 [==============================] - 70s 140ms/step - loss: 0.2793 - accuracy: 0.9023\n",
      "Epoch 24/40\n",
      "500/500 [==============================] - 70s 139ms/step - loss: 0.2524 - accuracy: 0.9092\n",
      "Epoch 25/40\n",
      "500/500 [==============================] - 72s 144ms/step - loss: 0.2483 - accuracy: 0.9139\n",
      "Epoch 26/40\n",
      "500/500 [==============================] - 88s 175ms/step - loss: 0.2617 - accuracy: 0.9089\n",
      "Epoch 27/40\n",
      "500/500 [==============================] - 69s 138ms/step - loss: 0.2413 - accuracy: 0.9141s - los\n",
      "Epoch 28/40\n",
      "500/500 [==============================] - 76s 153ms/step - loss: 0.2403 - accuracy: 0.9168\n",
      "Epoch 29/40\n",
      "500/500 [==============================] - 72s 144ms/step - loss: 0.2214 - accuracy: 0.9203\n",
      "Epoch 30/40\n",
      "500/500 [==============================] - 69s 138ms/step - loss: 0.2123 - accuracy: 0.9255\n",
      "Epoch 31/40\n",
      "500/500 [==============================] - 68s 135ms/step - loss: 0.2118 - accuracy: 0.9244\n",
      "Epoch 32/40\n",
      "500/500 [==============================] - 83s 165ms/step - loss: 0.2103 - accuracy: 0.9273\n",
      "Epoch 33/40\n",
      "500/500 [==============================] - 69s 137ms/step - loss: 0.2211 - accuracy: 0.9237\n",
      "Epoch 34/40\n",
      "500/500 [==============================] - 90s 181ms/step - loss: 0.2068 - accuracy: 0.9301\n",
      "Epoch 35/40\n",
      "500/500 [==============================] - 79s 158ms/step - loss: 0.2014 - accuracy: 0.9341\n",
      "Epoch 36/40\n",
      "500/500 [==============================] - 73s 145ms/step - loss: 0.2131 - accuracy: 0.9277\n",
      "Epoch 37/40\n",
      "500/500 [==============================] - 83s 166ms/step - loss: 0.2118 - accuracy: 0.9240\n",
      "Epoch 38/40\n",
      "500/500 [==============================] - 79s 159ms/step - loss: 0.1919 - accuracy: 0.9339\n",
      "Epoch 39/40\n",
      "500/500 [==============================] - 81s 161ms/step - loss: 0.2031 - accuracy: 0.9245\n",
      "Epoch 40/40\n",
      "500/500 [==============================] - 70s 141ms/step - loss: 0.1788 - accuracy: 0.9363\n"
     ]
    }
   ],
   "source": [
    "training_set = train_datagen.flow_from_directory(\n",
    "        'mydata/training_set',\n",
    "        target_size=(64, 64),\n",
    "        batch_size=32,\n",
    "        class_mode='categorical')\n",
    "\n",
    "test_set = test_datagen.flow_from_directory(\n",
    "        'mydata/test_set',\n",
    "        target_size=(64, 64),\n",
    "        batch_size=32,\n",
    "        class_mode='categorical')\n",
    "\n",
    "model = classifier.fit_generator(\n",
    "        training_set,\n",
    "        steps_per_epoch=500,\n",
    "        epochs=40,\n",
    "        validation_data = test_set,\n",
    "        validation_steps = 6500\n",
    "      )"
   ]
  },
  {
   "cell_type": "code",
   "execution_count": 90,
   "metadata": {},
   "outputs": [],
   "source": [
    "import h5py\n",
    "classifier.save('Trained_model1.h5')#save the model"
   ]
  },
  {
   "cell_type": "code",
   "execution_count": 91,
   "metadata": {},
   "outputs": [
    {
     "name": "stdout",
     "output_type": "stream",
     "text": [
      "dict_keys(['loss', 'accuracy', 'val_loss', 'val_accuracy'])\n"
     ]
    }
   ],
   "source": [
    "#check what is inside the model\n",
    "print(model.history.keys())"
   ]
  },
  {
   "cell_type": "code",
   "execution_count": 92,
   "metadata": {},
   "outputs": [
    {
     "data": {
      "image/png": "[encoded data removed]",
      "text/plain": [
       "<Figure size 432x288 with 1 Axes>"
      ]
     },
     "metadata": {
      "needs_background": "light"
     },
     "output_type": "display_data"
    }
   ],
   "source": [
    "import matplotlib.pyplot as plt\n",
    "# summarize history for accuracy\n",
    "plt.plot(model.history['accuracy'])\n",
    "plt.plot(model.history['val_accuracy'])\n",
    "plt.title('model accuracy')\n",
    "plt.ylabel('accuracy')\n",
    "plt.xlabel('epoch')\n",
    "plt.legend(['train', 'test'])\n",
    "plt.show()"
   ]
  },
  {
   "cell_type": "code",
   "execution_count": 93,
   "metadata": {},
   "outputs": [
    {
     "data": {
      "image/png": "[encoded data removed]",
      "text/plain": [
       "<Figure size 432x288 with 1 Axes>"
      ]
     },
     "metadata": {
      "needs_background": "light"
     },
     "output_type": "display_data"
    }
   ],
   "source": [
    "plt.plot(model.history['loss'])\n",
    "plt.plot(model.history['val_loss'])\n",
    "plt.title('model loss')\n",
    "plt.ylabel('loss')\n",
    "plt.xlabel('epoch')\n",
    "plt.legend(['train', 'test'], loc='upper left')\n",
    "plt.show()"
   ]
  },
  {
   "cell_type": "code",
   "execution_count": 94,
   "metadata": {},
   "outputs": [],
   "source": [
    "#load the model\n",
    "from keras.models import load_model\n",
    "\n",
    "classifier = load_model('Trained_model1.h5')"
   ]
  },
  {
   "cell_type": "code",
   "execution_count": 95,
   "metadata": {},
   "outputs": [
    {
     "name": "stdout",
     "output_type": "stream",
     "text": [
      "Model: \"sequential\"\n",
      "_________________________________________________________________\n",
      "Layer (type)                 Output Shape              Param #   \n",
      "=================================================================\n",
      "conv2d (Conv2D)              (None, 21, 21, 32)        896       \n",
      "_________________________________________________________________\n",
      "conv2d_1 (Conv2D)            (None, 7, 7, 32)          9248      \n",
      "_________________________________________________________________\n",
      "conv2d_2 (Conv2D)            (None, 2, 2, 64)          18496     \n",
      "_________________________________________________________________\n",
      "flatten (Flatten)            (None, 256)               0         \n",
      "_________________________________________________________________\n",
      "dense (Dense)                (None, 256)               65792     \n",
      "_________________________________________________________________\n",
      "dropout (Dropout)            (None, 256)               0         \n",
      "_________________________________________________________________\n",
      "dense_1 (Dense)              (None, 26)                6682      \n",
      "=================================================================\n",
      "Total params: 101,114\n",
      "Trainable params: 101,114\n",
      "Non-trainable params: 0\n",
      "_________________________________________________________________\n"
     ]
    }
   ],
   "source": [
    "classifier.summary()"
   ]
  },
  {
   "cell_type": "code",
   "execution_count": 96,
   "metadata": {},
   "outputs": [
    {
     "name": "stdout",
     "output_type": "stream",
     "text": [
      "Enter Image Name: 16.png\n"
     ]
    }
   ],
   "source": [
    "#reading the image\n",
    "import numpy as np\n",
    "from keras.preprocessing import image\n",
    "img_name = input('Enter Image Name: ')\n",
    "image_path = \"mydata\\\\validation-test\\\\{}\".format(img_name)"
   ]
  },
  {
   "cell_type": "code",
   "execution_count": 97,
   "metadata": {},
   "outputs": [],
   "source": [
    "#loading the image\n",
    "import numpy as np\n",
    "from keras.preprocessing import image\n",
    "test_image = image.load_img(image_path, target_size=(64, 64))"
   ]
  },
  {
   "cell_type": "code",
   "execution_count": 98,
   "metadata": {},
   "outputs": [],
   "source": [
    "#converting image to array\n",
    "test_image = image.img_to_array(test_image)\n",
    "test_image = np.expand_dims(test_image, axis = 0)"
   ]
  },
  {
   "cell_type": "code",
   "execution_count": 99,
   "metadata": {},
   "outputs": [
    {
     "name": "stdout",
     "output_type": "stream",
     "text": [
      "WARNING:tensorflow:7 out of the last 7 calls to <function Model.make_predict_function.<locals>.predict_function at 0x000000D45D437F70> triggered tf.function retracing. Tracing is expensive and the excessive number of tracings could be due to (1) creating @tf.function repeatedly in a loop, (2) passing tensors with different shapes, (3) passing Python objects instead of tensors. For (1), please define your @tf.function outside of the loop. For (2), @tf.function has experimental_relax_shapes=True option that relaxes argument shapes that can avoid unnecessary retracing. For (3), please refer to https://www.tensorflow.org/guide/function#controlling_retracing and https://www.tensorflow.org/api_docs/python/tf/function for  more details.\n"
     ]
    }
   ],
   "source": [
    "result = classifier.predict(test_image)"
   ]
  },
  {
   "cell_type": "code",
   "execution_count": 100,
   "metadata": {},
   "outputs": [
    {
     "name": "stdout",
     "output_type": "stream",
     "text": [
      "[[0. 0. 0. 0. 0. 0. 0. 0. 0. 0. 0. 0. 0. 0. 0. 0. 0. 0. 0. 0. 0. 0. 0. 0.\n",
      "  0. 1.]]\n"
     ]
    }
   ],
   "source": [
    "print(result)"
   ]
  },
  {
   "cell_type": "code",
   "execution_count": 101,
   "metadata": {},
   "outputs": [
    {
     "name": "stdout",
     "output_type": "stream",
     "text": [
      "Predicted Sign is:\n",
      "Z\n"
     ]
    }
   ],
   "source": [
    "print('Predicted Sign is:')\n",
    "if result[0][0] == 1:\n",
    "    print(\"A\")\n",
    "elif result[0][1] == 1:\n",
    "    print(\"B\")\n",
    "elif result[0][2] == 1:\n",
    "    print(\"C\")\n",
    "elif result[0][3] == 1:\n",
    "    print(\"D\")\n",
    "elif result[0][4] == 1:\n",
    "    print(\"E\")\n",
    "elif result[0][5] == 1:\n",
    "    print(\"F\")\n",
    "elif result[0][6] == 1:\n",
    "    print(\"G\")\n",
    "elif result[0][7] == 1:\n",
    "    print(\"H\")\n",
    "elif result[0][8] == 1:\n",
    "    print(\"I\")\n",
    "elif result[0][9] == 1:\n",
    "    print(\"J\")\n",
    "elif result[0][10] == 1:\n",
    "    print(\"K\")\n",
    "elif result[0][11] == 1:\n",
    "    print(\"L\")\n",
    "elif result[0][12] == 1:\n",
    "    print(\"M\")\n",
    "elif result[0][13] == 1:\n",
    "    print(\"N\")\n",
    "elif result[0][14] == 1:\n",
    "    print(\"O\")\n",
    "elif result[0][15] == 1:\n",
    "    print(\"P\")\n",
    "elif result[0][16] == 1:\n",
    "    print(\"Q\")\n",
    "elif result[0][17] == 1:\n",
    "    print(\"R\")\n",
    "elif result[0][18] == 1:\n",
    "    print(\"S\")\n",
    "elif result[0][19] == 1:\n",
    "    print(\"T\")\n",
    "elif result[0][20] == 1:\n",
    "    print(\"U\")\n",
    "elif result[0][21] == 1:\n",
    "    print(\"V\")\n",
    "elif result[0][22] == 1:\n",
    "    print(\"W\")\n",
    "elif result[0][23] == 1:\n",
    "    print(\"X\")\n",
    "elif result[0][24] == 1:\n",
    "    print(\"Y\")\n",
    "elif result[0][25] == 1:\n",
    "    print(\"Z\")\n"
   ]
  },
  {
   "cell_type": "code",
   "execution_count": null,
   "metadata": {},
   "outputs": [],
   "source": []
  },
  {
   "cell_type": "code",
   "execution_count": null,
   "metadata": {},
   "outputs": [],
   "source": []
  }
 ],
 "metadata": {
  "kernelspec": {
   "display_name": "Python 3",
   "language": "python",
   "name": "python3"
  },
  "language_info": {
   "codemirror_mode": {
    "name": "ipython",
    "version": 3
   },
   "file_extension": ".py",
   "mimetype": "text/x-python",
   "name": "python",
   "nbconvert_exporter": "python",
   "pygments_lexer": "ipython3",
   "version": "3.8.5"
  }
 },
 "nbformat": 4,
 "nbformat_minor": 4
}
