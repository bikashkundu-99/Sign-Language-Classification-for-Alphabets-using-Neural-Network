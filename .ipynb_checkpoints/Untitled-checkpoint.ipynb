{
 "cells": [
  {
   "cell_type": "code",
   "execution_count": 1,
   "metadata": {},
   "outputs": [],
   "source": [
    "import tensorflow as tf\n",
    "from tensorflow import keras\n"
   ]
  },
  {
   "cell_type": "code",
   "execution_count": 2,
   "metadata": {},
   "outputs": [],
   "source": [
    "from keras.models import Sequential\n",
    "from keras.layers import Convolution2D\n",
    "from keras.layers import MaxPooling2D\n",
    "from keras.layers import Flatten\n",
    "from keras.layers import Dense, Dropout\n",
    "from keras import optimizers"
   ]
  },
  {
   "cell_type": "code",
   "execution_count": null,
   "metadata": {},
   "outputs": [],
   "source": [
    "# Initialing the CNN\n",
    "classifier = Sequential()\n",
    "\n",
    "# Step 1 - Convolutio Layer \n",
    "classifier.add(Convolution2D(32, 3,  3, input_shape = (64, 64, 3), activation = 'relu'))\n",
    "\n",
    "#step 2 - Pooling\n",
    "#classifier.add(MaxPooling2D(pool_size =(2,2)))\n",
    "\n",
    "# Adding second convolution layer\n",
    "classifier.add(Convolution2D(32, 3,  3, activation = 'relu'))\n",
    "#classifier.add(MaxPooling2D(pool_size =(2,2)))\n",
    "\n",
    "#Adding 3rd Concolution Layer\n",
    "classifier.add(Convolution2D(64, 3,  3, activation = 'relu'))\n",
    "#classifier.add(MaxPooling2D(pool_size =(2,2)))\n",
    "\n",
    "\n",
    "#Step 3 - Flattening\n",
    "classifier.add(Flatten())\n"
   ]
  },
  {
   "cell_type": "code",
   "execution_count": null,
   "metadata": {},
   "outputs": [],
   "source": [
    "#Step 4 - Full Connection\n",
    "classifier.add(Dense(256, activation = 'relu'))\n",
    "classifier.add(Dropout(0.5))\n",
    "classifier.add(Dense(26, activation = 'softmax'))"
   ]
  },
  {
   "cell_type": "code",
   "execution_count": null,
   "metadata": {},
   "outputs": [],
   "source": [
    "classifier.compile(\n",
    "              optimizer = optimizers.SGD(lr = 0.01),\n",
    "              loss = 'categorical_crossentropy',\n",
    "              metrics = ['accuracy'])"
   ]
  },
  {
   "cell_type": "code",
   "execution_count": null,
   "metadata": {},
   "outputs": [],
   "source": [
    "from keras.preprocessing.image import ImageDataGenerator\n",
    "train_datagen = ImageDataGenerator(\n",
    "        rescale=1./255,\n",
    "        shear_range=0.2,\n",
    "        zoom_range=0.2,\n",
    "        horizontal_flip=True)\n",
    "\n",
    "test_datagen = ImageDataGenerator(rescale=1./255)"
   ]
  },
  {
   "cell_type": "code",
   "execution_count": null,
   "metadata": {},
   "outputs": [],
   "source": [
    "training_set = train_datagen.flow_from_directory(\n",
    "        'C:\\Users\\admin\\Desktop\\capstone project1\\mydata\\training_set',\n",
    "        target_size=(64, 64),\n",
    "        batch_size=32,\n",
    "        class_mode='categorical')\n",
    "\n",
    "test_set = test_datagen.flow_from_directory(\n",
    "        'C:\\Users\\admin\\Desktop\\capstone project1\\mydata\\test_set',\n",
    "        target_size=(64, 64),\n",
    "        batch_size=32,\n",
    "        class_mode='categorical')\n",
    "\n",
    "model = classifier.fit_generator(\n",
    "        training_set,\n",
    "        steps_per_epoch=800,\n",
    "        epochs=5,\n",
    "        validation_data = test_set,\n",
    "        validation_steps = 6500\n",
    "      )"
   ]
  },
  {
   "cell_type": "code",
   "execution_count": null,
   "metadata": {},
   "outputs": [],
   "source": [
    "import h5py\n",
    "classifier.save('Trained_model1.h5')#save the model"
   ]
  },
  {
   "cell_type": "code",
   "execution_count": null,
   "metadata": {},
   "outputs": [],
   "source": [
    "#check what is inside the model\n",
    "print(model.history.keys())"
   ]
  },
  {
   "cell_type": "code",
   "execution_count": null,
   "metadata": {},
   "outputs": [],
   "source": [
    "import matplotlib.pyplot as plt\n",
    "# summarize history for accuracy\n",
    "plt.plot(model.history['accuracy'])\n",
    "plt.plot(model.history['val_accuracy'])\n",
    "plt.title('model accuracy')\n",
    "plt.ylabel('accuracy')\n",
    "plt.xlabel('epoch')\n",
    "plt.legend(['train', 'test'])\n",
    "plt.show()"
   ]
  },
  {
   "cell_type": "code",
   "execution_count": null,
   "metadata": {},
   "outputs": [],
   "source": [
    "plt.plot(model.history['loss'])\n",
    "plt.plot(model.history['val_loss'])\n",
    "plt.title('model loss')\n",
    "plt.ylabel('loss')\n",
    "plt.xlabel('epoch')\n",
    "plt.legend(['train', 'test'], loc='upper left')\n",
    "plt.show()"
   ]
  },
  {
   "cell_type": "code",
   "execution_count": null,
   "metadata": {},
   "outputs": [],
   "source": [
    "#load the model\n",
    "from keras.models import load_model\n",
    "\n",
    "classifier = load_model('Trained_model1.h5')"
   ]
  },
  {
   "cell_type": "code",
   "execution_count": null,
   "metadata": {},
   "outputs": [],
   "source": [
    "classifier.summary()"
   ]
  },
  {
   "cell_type": "code",
   "execution_count": null,
   "metadata": {},
   "outputs": [],
   "source": [
    "#reading the image\n",
    "import numpy as np\n",
    "from keras.preprocessing import image\n",
    "img_name = input('Enter Image Name: ')\n",
    "image_path = \"mydata\\\\Validation_test{}\".format(img_name)"
   ]
  },
  {
   "cell_type": "code",
   "execution_count": null,
   "metadata": {},
   "outputs": [],
   "source": [
    "#loading the image\n",
    "import numpy as np\n",
    "from keras.preprocessing import image\n",
    "test_image = image.load_img(image_path, target_size=(64, 64))"
   ]
  },
  {
   "cell_type": "code",
   "execution_count": null,
   "metadata": {},
   "outputs": [],
   "source": [
    "#converting image to array\n",
    "test_image = image.img_to_array(test_image)\n",
    "test_image = np.expand_dims(test_image, axis = 0)"
   ]
  },
  {
   "cell_type": "code",
   "execution_count": null,
   "metadata": {},
   "outputs": [],
   "source": [
    "result = classifier.predict(test_image)"
   ]
  },
  {
   "cell_type": "code",
   "execution_count": null,
   "metadata": {},
   "outputs": [],
   "source": [
    "print(result)"
   ]
  },
  {
   "cell_type": "code",
   "execution_count": null,
   "metadata": {},
   "outputs": [],
   "source": [
    "print('Predicted Sign is:')\n",
    "if result[0][0] == 1:\n",
    "    print(\"A\")\n",
    "elif result[0][1] == 1:\n",
    "    print(\"B\")\n",
    "elif result[0][2] == 1:\n",
    "    print(\"C\")\n",
    "elif result[0][3] == 1:\n",
    "    print(\"D\")\n",
    "elif result[0][4] == 1:\n",
    "    print(\"E\")\n",
    "elif result[0][5] == 1:\n",
    "    print(\"F\")\n",
    "elif result[0][6] == 1:\n",
    "    print(\"G\")\n",
    "elif result[0][7] == 1:\n",
    "    print(\"H\")\n",
    "elif result[0][8] == 1:\n",
    "    print(\"I\")\n",
    "elif result[0][9] == 1:\n",
    "    print(\"J\")\n",
    "elif result[0][10] == 1:\n",
    "    print(\"K\")\n",
    "elif result[0][11] == 1:\n",
    "    print(\"L\")\n",
    "elif result[0][12] == 1:\n",
    "    print(\"M\")\n",
    "elif result[0][13] == 1:\n",
    "    print(\"N\")\n",
    "elif result[0][14] == 1:\n",
    "    print(\"O\")\n",
    "elif result[0][15] == 1:\n",
    "    print(\"P\")\n",
    "elif result[0][16] == 1:\n",
    "    print(\"Q\")\n",
    "elif result[0][17] == 1:\n",
    "    print(\"R\")\n",
    "elif result[0][18] == 1:\n",
    "    print(\"S\")\n",
    "elif result[0][19] == 1:\n",
    "    print(\"T\")\n",
    "elif result[0][20] == 1:\n",
    "    print(\"U\")\n",
    "elif result[0][21] == 1:\n",
    "    print(\"V\")\n",
    "elif result[0][22] == 1:\n",
    "    print(\"W\")\n",
    "elif result[0][23] == 1:\n",
    "    print(\"X\")\n",
    "elif result[0][24] == 1:\n",
    "    print(\"Y\")\n",
    "elif result[0][25] == 1:\n",
    "    print(\"Z\")\n"
   ]
  },
  {
   "cell_type": "code",
   "execution_count": null,
   "metadata": {},
   "outputs": [],
   "source": [
    "import tensorflow as tf\n",
    "\n",
    "tf.ones([5,1])"
   ]
  },
  {
   "cell_type": "code",
   "execution_count": null,
   "metadata": {},
   "outputs": [],
   "source": []
  },
  {
   "cell_type": "code",
   "execution_count": null,
   "metadata": {},
   "outputs": [],
   "source": []
  }
 ],
 "metadata": {
  "kernelspec": {
   "display_name": "Python 3",
   "language": "python",
   "name": "python3"
  },
  "language_info": {
   "codemirror_mode": {
    "name": "ipython",
    "version": 3
   },
   "file_extension": ".py",
   "mimetype": "text/x-python",
   "name": "python",
   "nbconvert_exporter": "python",
   "pygments_lexer": "ipython3",
   "version": "3.8.5"
  }
 },
 "nbformat": 4,
 "nbformat_minor": 2
}
